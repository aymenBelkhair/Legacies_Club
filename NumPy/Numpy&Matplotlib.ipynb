{
 "cells": [
  {
   "cell_type": "markdown",
   "metadata": {},
   "source": [
    "\n",
    "<table>\n",
    "<tr>\n",
    "<td width=15%><img src=\"legacies.png\"></img></td>\n",
    "<td><center><h1>Introduction to Python for Data Sciences</h1></center></td>\n",
    "<td width=15%><a href=\"https://www.linkedin.com/in/aymen-belkhair/\" style=\"font-size: 16px; font-weight: bold\">Aymen Belkhair</a> </td>\n",
    "</tr>\n",
    "</table>\n"
   ]
  },
  {
   "cell_type": "markdown",
   "metadata": {},
   "source": [
    "\n",
    "<br/><br/>\n",
    "\n",
    "<center><a style=\"font-size: 40pt; font-weight: bold\">Chapter 1 : Numpy and Matplotlib </a></center> \n",
    "\n",
    "<br/><br/>\n",
    "\n"
   ]
  },
  {
   "cell_type": "markdown",
   "metadata": {},
   "source": [
    "# 1- Packages\n",
    "\n",
    "\n",
    "\n",
    "Python has a large standard library, commonly cited as one of Python's greatest strengths, providing tools suited to many tasks. As of May, 2017, the official repository containing third-party software for Python, contains over 107,000 packages.\n",
    "\n",
    "A <strong>*package*</strong> is a <strong>collection</strong> of <i>*modules*</i> i.e. groups of functions, classes, constants, types, etc."
   ]
  },
  {
   "cell_type": "markdown",
   "metadata": {},
   "source": [
    "## Built-in modules\n",
    "\n",
    "To use a module, you have to *import* it using the command `import`."
   ]
  },
  {
   "cell_type": "code",
   "execution_count": 62,
   "metadata": {},
   "outputs": [],
   "source": [
    "import math"
   ]
  },
  {
   "cell_type": "markdown",
   "metadata": {},
   "source": [
    "You can now use it in the code by using its name as a prefix. "
   ]
  },
  {
   "cell_type": "code",
   "execution_count": 66,
   "metadata": {},
   "outputs": [
    {
     "name": "stdout",
     "output_type": "stream",
     "text": [
      "1.0\n"
     ]
    }
   ],
   "source": [
    "x = math.cos(2 * math.pi)\n",
    "\n",
    "print(x)"
   ]
  },
  {
   "cell_type": "markdown",
   "metadata": {},
   "source": [
    "To explore the function and other content of the module/library:\n",
    " * Use the web documentation (e.g. for the `math` library <a href=\"https://docs.python.org/3/library/math.html\">Doc for Python 3</a>)\n",
    " * Use the built-in`help`"
   ]
  },
  {
   "cell_type": "code",
   "execution_count": 67,
   "metadata": {},
   "outputs": [
    {
     "name": "stdout",
     "output_type": "stream",
     "text": [
      "Help on built-in module math:\n",
      "\n",
      "NAME\n",
      "    math\n",
      "\n",
      "DESCRIPTION\n",
      "    This module provides access to the mathematical functions\n",
      "    defined by the C standard.\n",
      "\n",
      "FUNCTIONS\n",
      "    acos(x, /)\n",
      "        Return the arc cosine (measured in radians) of x.\n",
      "        \n",
      "        The result is between 0 and pi.\n",
      "    \n",
      "    acosh(x, /)\n",
      "        Return the inverse hyperbolic cosine of x.\n",
      "    \n",
      "    asin(x, /)\n",
      "        Return the arc sine (measured in radians) of x.\n",
      "        \n",
      "        The result is between -pi/2 and pi/2.\n",
      "    \n",
      "    asinh(x, /)\n",
      "        Return the inverse hyperbolic sine of x.\n",
      "    \n",
      "    atan(x, /)\n",
      "        Return the arc tangent (measured in radians) of x.\n",
      "        \n",
      "        The result is between -pi/2 and pi/2.\n",
      "    \n",
      "    atan2(y, x, /)\n",
      "        Return the arc tangent (measured in radians) of y/x.\n",
      "        \n",
      "        Unlike atan(y/x), the signs of both x and y are considered.\n",
      "    \n",
      "    atanh(x, /)\n",
      "        Return the inverse hyperbolic tangent of x.\n",
      "    \n",
      "    ceil(x, /)\n",
      "        Return the ceiling of x as an Integral.\n",
      "        \n",
      "        This is the smallest integer >= x.\n",
      "    \n",
      "    comb(n, k, /)\n",
      "        Number of ways to choose k items from n items without repetition and without order.\n",
      "        \n",
      "        Evaluates to n! / (k! * (n - k)!) when k <= n and evaluates\n",
      "        to zero when k > n.\n",
      "        \n",
      "        Also called the binomial coefficient because it is equivalent\n",
      "        to the coefficient of k-th term in polynomial expansion of the\n",
      "        expression (1 + x)**n.\n",
      "        \n",
      "        Raises TypeError if either of the arguments are not integers.\n",
      "        Raises ValueError if either of the arguments are negative.\n",
      "    \n",
      "    copysign(x, y, /)\n",
      "        Return a float with the magnitude (absolute value) of x but the sign of y.\n",
      "        \n",
      "        On platforms that support signed zeros, copysign(1.0, -0.0)\n",
      "        returns -1.0.\n",
      "    \n",
      "    cos(x, /)\n",
      "        Return the cosine of x (measured in radians).\n",
      "    \n",
      "    cosh(x, /)\n",
      "        Return the hyperbolic cosine of x.\n",
      "    \n",
      "    degrees(x, /)\n",
      "        Convert angle x from radians to degrees.\n",
      "    \n",
      "    dist(p, q, /)\n",
      "        Return the Euclidean distance between two points p and q.\n",
      "        \n",
      "        The points should be specified as sequences (or iterables) of\n",
      "        coordinates.  Both inputs must have the same dimension.\n",
      "        \n",
      "        Roughly equivalent to:\n",
      "            sqrt(sum((px - qx) ** 2.0 for px, qx in zip(p, q)))\n",
      "    \n",
      "    erf(x, /)\n",
      "        Error function at x.\n",
      "    \n",
      "    erfc(x, /)\n",
      "        Complementary error function at x.\n",
      "    \n",
      "    exp(x, /)\n",
      "        Return e raised to the power of x.\n",
      "    \n",
      "    expm1(x, /)\n",
      "        Return exp(x)-1.\n",
      "        \n",
      "        This function avoids the loss of precision involved in the direct evaluation of exp(x)-1 for small x.\n",
      "    \n",
      "    fabs(x, /)\n",
      "        Return the absolute value of the float x.\n",
      "    \n",
      "    factorial(x, /)\n",
      "        Find x!.\n",
      "        \n",
      "        Raise a ValueError if x is negative or non-integral.\n",
      "    \n",
      "    floor(x, /)\n",
      "        Return the floor of x as an Integral.\n",
      "        \n",
      "        This is the largest integer <= x.\n",
      "    \n",
      "    fmod(x, y, /)\n",
      "        Return fmod(x, y), according to platform C.\n",
      "        \n",
      "        x % y may differ.\n",
      "    \n",
      "    frexp(x, /)\n",
      "        Return the mantissa and exponent of x, as pair (m, e).\n",
      "        \n",
      "        m is a float and e is an int, such that x = m * 2.**e.\n",
      "        If x is 0, m and e are both 0.  Else 0.5 <= abs(m) < 1.0.\n",
      "    \n",
      "    fsum(seq, /)\n",
      "        Return an accurate floating point sum of values in the iterable seq.\n",
      "        \n",
      "        Assumes IEEE-754 floating point arithmetic.\n",
      "    \n",
      "    gamma(x, /)\n",
      "        Gamma function at x.\n",
      "    \n",
      "    gcd(*integers)\n",
      "        Greatest Common Divisor.\n",
      "    \n",
      "    hypot(...)\n",
      "        hypot(*coordinates) -> value\n",
      "        \n",
      "        Multidimensional Euclidean distance from the origin to a point.\n",
      "        \n",
      "        Roughly equivalent to:\n",
      "            sqrt(sum(x**2 for x in coordinates))\n",
      "        \n",
      "        For a two dimensional point (x, y), gives the hypotenuse\n",
      "        using the Pythagorean theorem:  sqrt(x*x + y*y).\n",
      "        \n",
      "        For example, the hypotenuse of a 3/4/5 right triangle is:\n",
      "        \n",
      "            >>> hypot(3.0, 4.0)\n",
      "            5.0\n",
      "    \n",
      "    isclose(a, b, *, rel_tol=1e-09, abs_tol=0.0)\n",
      "        Determine whether two floating point numbers are close in value.\n",
      "        \n",
      "          rel_tol\n",
      "            maximum difference for being considered \"close\", relative to the\n",
      "            magnitude of the input values\n",
      "          abs_tol\n",
      "            maximum difference for being considered \"close\", regardless of the\n",
      "            magnitude of the input values\n",
      "        \n",
      "        Return True if a is close in value to b, and False otherwise.\n",
      "        \n",
      "        For the values to be considered close, the difference between them\n",
      "        must be smaller than at least one of the tolerances.\n",
      "        \n",
      "        -inf, inf and NaN behave similarly to the IEEE 754 Standard.  That\n",
      "        is, NaN is not close to anything, even itself.  inf and -inf are\n",
      "        only close to themselves.\n",
      "    \n",
      "    isfinite(x, /)\n",
      "        Return True if x is neither an infinity nor a NaN, and False otherwise.\n",
      "    \n",
      "    isinf(x, /)\n",
      "        Return True if x is a positive or negative infinity, and False otherwise.\n",
      "    \n",
      "    isnan(x, /)\n",
      "        Return True if x is a NaN (not a number), and False otherwise.\n",
      "    \n",
      "    isqrt(n, /)\n",
      "        Return the integer part of the square root of the input.\n",
      "    \n",
      "    lcm(*integers)\n",
      "        Least Common Multiple.\n",
      "    \n",
      "    ldexp(x, i, /)\n",
      "        Return x * (2**i).\n",
      "        \n",
      "        This is essentially the inverse of frexp().\n",
      "    \n",
      "    lgamma(x, /)\n",
      "        Natural logarithm of absolute value of Gamma function at x.\n",
      "    \n",
      "    log(...)\n",
      "        log(x, [base=math.e])\n",
      "        Return the logarithm of x to the given base.\n",
      "        \n",
      "        If the base not specified, returns the natural logarithm (base e) of x.\n",
      "    \n",
      "    log10(x, /)\n",
      "        Return the base 10 logarithm of x.\n",
      "    \n",
      "    log1p(x, /)\n",
      "        Return the natural logarithm of 1+x (base e).\n",
      "        \n",
      "        The result is computed in a way which is accurate for x near zero.\n",
      "    \n",
      "    log2(x, /)\n",
      "        Return the base 2 logarithm of x.\n",
      "    \n",
      "    modf(x, /)\n",
      "        Return the fractional and integer parts of x.\n",
      "        \n",
      "        Both results carry the sign of x and are floats.\n",
      "    \n",
      "    nextafter(x, y, /)\n",
      "        Return the next floating-point value after x towards y.\n",
      "    \n",
      "    perm(n, k=None, /)\n",
      "        Number of ways to choose k items from n items without repetition and with order.\n",
      "        \n",
      "        Evaluates to n! / (n - k)! when k <= n and evaluates\n",
      "        to zero when k > n.\n",
      "        \n",
      "        If k is not specified or is None, then k defaults to n\n",
      "        and the function returns n!.\n",
      "        \n",
      "        Raises TypeError if either of the arguments are not integers.\n",
      "        Raises ValueError if either of the arguments are negative.\n",
      "    \n",
      "    pow(x, y, /)\n",
      "        Return x**y (x to the power of y).\n",
      "    \n",
      "    prod(iterable, /, *, start=1)\n",
      "        Calculate the product of all the elements in the input iterable.\n",
      "        \n",
      "        The default start value for the product is 1.\n",
      "        \n",
      "        When the iterable is empty, return the start value.  This function is\n",
      "        intended specifically for use with numeric values and may reject\n",
      "        non-numeric types.\n",
      "    \n",
      "    radians(x, /)\n",
      "        Convert angle x from degrees to radians.\n",
      "    \n",
      "    remainder(x, y, /)\n",
      "        Difference between x and the closest integer multiple of y.\n",
      "        \n",
      "        Return x - n*y where n*y is the closest integer multiple of y.\n",
      "        In the case where x is exactly halfway between two multiples of\n",
      "        y, the nearest even value of n is used. The result is always exact.\n",
      "    \n",
      "    sin(x, /)\n",
      "        Return the sine of x (measured in radians).\n",
      "    \n",
      "    sinh(x, /)\n",
      "        Return the hyperbolic sine of x.\n",
      "    \n",
      "    sqrt(x, /)\n",
      "        Return the square root of x.\n",
      "    \n",
      "    tan(x, /)\n",
      "        Return the tangent of x (measured in radians).\n",
      "    \n",
      "    tanh(x, /)\n",
      "        Return the hyperbolic tangent of x.\n",
      "    \n",
      "    trunc(x, /)\n",
      "        Truncates the Real x to the nearest Integral toward 0.\n",
      "        \n",
      "        Uses the __trunc__ magic method.\n",
      "    \n",
      "    ulp(x, /)\n",
      "        Return the value of the least significant bit of the float x.\n",
      "\n",
      "DATA\n",
      "    e = 2.718281828459045\n",
      "    inf = inf\n",
      "    nan = nan\n",
      "    pi = 3.141592653589793\n",
      "    tau = 6.283185307179586\n",
      "\n",
      "FILE\n",
      "    (built-in)\n",
      "\n",
      "\n"
     ]
    }
   ],
   "source": [
    "help(math)"
   ]
  },
  {
   "cell_type": "code",
   "execution_count": 68,
   "metadata": {},
   "outputs": [
    {
     "name": "stdout",
     "output_type": "stream",
     "text": [
      "Help on built-in function sqrt in module math:\n",
      "\n",
      "sqrt(x, /)\n",
      "    Return the square root of x.\n",
      "\n"
     ]
    }
   ],
   "source": [
    "help(math.sqrt)"
   ]
  },
  {
   "cell_type": "markdown",
   "metadata": {},
   "source": [
    "Using the name prefix can make the code obfuscated as it can get quite verbose (e.g. `scipy.optimize.minimize`) so Python provides simpler ways to import:\n",
    "* `import name as nickname`: the prefix to call is now `nickname`"
   ]
  },
  {
   "cell_type": "code",
   "execution_count": 75,
   "metadata": {},
   "outputs": [
    {
     "name": "stdout",
     "output_type": "stream",
     "text": [
      "3.141592653589793\n"
     ]
    }
   ],
   "source": [
    "\n",
    "import math as mat\n",
    "\n",
    "\n",
    "print(mat.pi)"
   ]
  },
  {
   "cell_type": "markdown",
   "metadata": {},
   "source": [
    "* `from name import function1,constant1` : `function1`  `constant1` can now be called directly.</br>\n",
    "You can even import <strong>all</strong> contents with `from name import *` but this may be dangerous as names may conflict or override former ones, it is thus not advised except on user-generated modules."
   ]
  },
  {
   "cell_type": "code",
   "execution_count": 79,
   "metadata": {},
   "outputs": [
    {
     "name": "stdout",
     "output_type": "stream",
     "text": [
      "4.0\n"
     ]
    }
   ],
   "source": [
    "from math import e,log,sqrt\n",
    "\n",
    "# print(log(e**4))\n",
    "\n",
    "# print(mat.log(e**4))\n",
    "\n",
    "print(sqrt(16))"
   ]
  },
  {
   "cell_type": "markdown",
   "metadata": {},
   "source": [
    "\n",
    "## Installing packages\n",
    "\n",
    "\n",
    "Python comes with a lot a lot of packages (ie. functions and small programs), provided by the community. To install a package `SomePackage`, the recommended way is know to use `pip` :\n",
    "\n",
    "`python -m pip install SomePackage` or simply `pip install SomePackage`\n",
    "\n",
    "\n",
    "See https://docs.python.org/3.9/installing/index.html for details on installing packages (and if you do not have `pip` installed, see https://packaging.python.org/tutorials/installing-packages/#requirements-for-installing-packages )\n",
    "\n",
    "\n",
    "*Warning:* this is the preferred way, however:\n",
    "* if you are using Anaconda, it is preferrable to install packages directly using the Anaconda interface, see https://docs.anaconda.com/anaconda/navigator/tutorials/manage-packages/ \n",
    "* If you don't have administrator rights on the machine (eg. at university), use `pip --user install SomePackage` to install a package locally."
   ]
  },
  {
   "cell_type": "markdown",
   "metadata": {},
   "source": [
    "Once installed, you can import the packages as above. "
   ]
  },
  {
   "cell_type": "markdown",
   "metadata": {},
   "source": [
    "Since a package (like `scipy`) is a collection of modules, you can import only a part of it. See https://docs.scipy.org/doc/scipy/reference/tutorial/index.html#user-guide for instance."
   ]
  },
  {
   "cell_type": "markdown",
   "metadata": {},
   "source": [
    "## Creating you own modules [*]\n",
    "\n",
    "In order to reuse parts of your code, it is often efficient to write you own modules for often used functions. The *importation* of the module is the same as for other libraries to the difference that you have to give the (relative) path to the module.\n",
    "\n",
    "In our example, the module file is `pyds.py` in the `C:\\Users\\ayman\\Documents\\test` folder (you may open it to see what it contains). Two solutions to give the (relative) path to the module:\n",
    "* add the folder `C:\\Users\\ayman\\Documents\\test` to the folder list of python"
   ]
  },
  {
   "cell_type": "code",
   "execution_count": 94,
   "metadata": {},
   "outputs": [
    {
     "name": "stdout",
     "output_type": "stream",
     "text": [
      "Help on module aymen:\n",
      "\n",
      "NAME\n",
      "    aymen\n",
      "\n",
      "DESCRIPTION\n",
      "    ######################################\n",
      "    ### \n",
      "    ### the CLASS module\n",
      "    ###\n",
      "    ######################################\n",
      "\n",
      "FUNCTIONS\n",
      "    somation(a, b)\n",
      "\n",
      "DATA\n",
      "    teacherName = 'Franck Iutzeler'\n",
      "    teacherWebsite = 'http://www.iutzeler.org'\n",
      "\n",
      "FILE\n",
      "    c:\\users\\ayman\\documents\\test\\aymen.py\n",
      "\n",
      "\n"
     ]
    }
   ],
   "source": [
    "import sys\n",
    "\n",
    "sys.path.append( \"C:/Users/ayman/Documents/test\")\n",
    "\n",
    "import aymen as ay\n",
    "\n",
    "help(ay)"
   ]
  },
  {
   "cell_type": "code",
   "execution_count": 97,
   "metadata": {},
   "outputs": [
    {
     "data": {
      "text/plain": [
       "16"
      ]
     },
     "execution_count": 97,
     "metadata": {},
     "output_type": "execute_result"
    }
   ],
   "source": [
    "import aymen as ay\n",
    "\n",
    "ay.somation(15,1)"
   ]
  },
  {
   "cell_type": "markdown",
   "metadata": {},
   "source": [
    "# 2- Numpy and Matplotlib\n",
    "\n",
    "\n",
    "\n",
    "**Numpy** is a numerical calculus and algebra package that is widely used, notably providing the *array* (vector/matrix format) type used in almost all numerical projects.  [Documentation](https://numpy.org/doc/stable/) and [Reference](https://numpy.org/doc/stable/reference/index.html)</br></br>\n",
    "Here are some key features and benefits of NumPy:</br>\n",
    "\n",
    "1. **Array Manipulation**: NumPy provides a powerful array object called ndarray, which is a multidimensional array capable of storing various data types such as integers, floats, complex numbers, and strings. This array object offers efficient operations for element-wise mathematical calculations, data filtering, sorting, and reshaping, making it particularly useful for data analysis and manipulation.</br>\n",
    "2. **Linear Algebra and Matrix Operations**: NumPy offers extensive support for linear algebra and matrix operations. It provides a range of functions and methods for matrix multiplication, matrix decomposition (e.g., eigenvalue decomposition), solving linear equations, calculating matrix inverses, and performing various matrix operations commonly used in scientific computing.</br>\n",
    "3. **Statistical Functions**: NumPy includes a collection of statistical functions that enable users to perform statistical calculations and analysis on data. These functions cover basic statistical operations such as mean, median, standard deviation, variance, and more advanced functions like correlation, regression, and hypothesis testing.</br>\n",
    "\n",
    "4. **Data Analysis and Visualization**: NumPy is widely used in data analysis and visualization tasks. It offers functions for data exploration, data cleaning, and data preparation. Additionally, NumPy can be integrated with popular data visualization libraries like Matplotlib, Seaborn, and Bokeh, allowing users to create informative and interactive visualizations from their data.\n",
    "\n",
    "\n",
    "\n",
    "**Matplotlib** is a versatile and powerful Python library for creating static, animated, and interactive visualizations in 2D and 3D graphics. [Documentation ](https://matplotlib.org/stable/contents.html) </br>\n",
    "\n",
    " It is widely used in data science, data analysis, machine learning, and scientific computing.</br></br>\n",
    " Matplotlib provides an object-oriented API for plotting various types of data, including :</br>\n",
    " <ol>\n",
    " <li>line charts</li>\n",
    " <li>bar charts</li>\n",
    " <li>scatterplots</li>\n",
    " <li>histograms</li>\n",
    " <li>heatmaps</li>\n",
    " </ol>\n",
    " \n",
    " \n",
    "It is common to import them with the respective nicknames **np** and **plt** (for `matplotlib.pyplot`)."
   ]
  },
  {
   "cell_type": "code",
   "execution_count": 98,
   "metadata": {},
   "outputs": [],
   "source": [
    "import numpy as np\n",
    "import matplotlib.pyplot as plt\n",
    "\n",
    "%matplotlib inline"
   ]
  },
  {
   "cell_type": "markdown",
   "metadata": {},
   "source": [
    "The last line `%matplotlib inline` is a command for Jupyter to indicate that we want our figures in the notebook and not in a separate window.\n",
    "\n",
    " Here are some key benefits and considerations of using %matplotlib inline:\n",
    "\n",
    "\n",
    "1. **Inline Visualization**: By using %matplotlib inline, plots and visualizations are displayed directly within the notebook, **making it easier to view and analyze the results of your code without having to switch between different windows**. This can be particularly useful when working with a large number of plots or when you are iteratively developing and refining your visualizations.</br></br>\n",
    "\n",
    "2. **Interactive Plots**: When using %matplotlib inline, plots can **be interactive**, allowing you to **zoom**, pan, and rotate 3D plots. This interactivity enhances the **exploration and analysis** of your data, enabling you to gain a deeper understanding of the **relationships and trends** within your dataset.</br></br>\n",
    "\n",
    "3. **Memory Usage**: Displaying plots inline can **consume more memory** compared to displaying them in a separate window. This is because the entire plot is rendered and stored in the notebook's memory. This can be a concern when working with large datasets or complex visualizations that require significant memory resources.</br></br>\n",
    "\n",
    "4. **Exporting Plots**: When using %matplotlib inline, plots are displayed within the notebook and are not saved as separate image files. If you need to export your plots as images (e.g., PNG, JPEG), you will need to use alternative methods such as saving the figure object or using the **matplotlib.pyplot.savefig()** function.</br>\n",
    "\n"
   ]
  },
  {
   "cell_type": "markdown",
   "metadata": {},
   "source": [
    "## Numpy *arrays*\n",
    "\n",
    " A NumPy array is a powerful data structure in Python that is used to **store** and **manipulate** *large amounts of numerical data*.</br></br>\n",
    "\n",
    "Here are some of the key features of NumPy arrays:\n",
    "<ol>\n",
    "<li> They are multidimensional.</li>\n",
    "<li> They can store a variety of data types.</li>\n",
    "<li> They are efficient for numerical operations.</li>\n",
    "<li> They support a wide variety of mathematical operations.</li>\n",
    "<li> They are easy to use.</li>\n",
    "</ol>\n",
    " NumPy arrays are **similar to Python lists**, <u>but</u> they are much more efficient for **numerical operations**.</br>\n",
    "\n",
    "\n",
    "\n",
    "\n",
    "### One-dimensional arrays"
   ]
  },
  {
   "cell_type": "code",
   "execution_count": 104,
   "metadata": {},
   "outputs": [
    {
     "name": "stdout",
     "output_type": "stream",
     "text": [
      "[ 2.   3.5  6.  11. ]\n"
     ]
    }
   ],
   "source": [
    "x = np.array([1, 2.5, 5, 10])\n",
    "# print(x,type(x))\n",
    "# print(x[0])\n",
    "# print(x[:3])\n",
    "print(x + 1)"
   ]
  },
  {
   "cell_type": "markdown",
   "metadata": {},
   "source": [
    "### Create 1D NumPy Array Arrange()\n",
    "\n",
    "\n",
    "`arange` returns an array of evenly spaced number from `start` to (at most) `stop` with a fixed jump `step` \n"
   ]
  },
  {
   "cell_type": "code",
   "execution_count": 105,
   "metadata": {},
   "outputs": [
    {
     "name": "stdout",
     "output_type": "stream",
     "text": [
      "[3 5 7 9]\n"
     ]
    }
   ],
   "source": [
    "x = np.arange(3, 10, 2)\n",
    "print(x)"
   ]
  },
  {
   "cell_type": "markdown",
   "metadata": {},
   "source": [
    "### Create 1D NumPy Array using Linspace()\n",
    "\n",
    "`linspace` returns an array of evenly spaced number from `start` to (exactly) `stop` with a fixed number of points `num`"
   ]
  },
  {
   "cell_type": "code",
   "execution_count": 110,
   "metadata": {},
   "outputs": [
    {
     "name": "stdout",
     "output_type": "stream",
     "text": [
      "[ 3.   6.5 10. ]\n"
     ]
    }
   ],
   "source": [
    "x = np.linspace(3, 10, 3)\n",
    "print(x)"
   ]
  },
  {
   "cell_type": "markdown",
   "metadata": {},
   "source": [
    "### Create 1D NumPy Array using Fromiter()\n",
    "\n",
    "Fromiter() is useful for creating non-numeric sequence type array however it can create any type of array. Here we will convert a string into a NumPy array of characters."
   ]
  },
  {
   "cell_type": "code",
   "execution_count": 113,
   "metadata": {},
   "outputs": [
    {
     "name": "stdout",
     "output_type": "stream",
     "text": [
      "<class 'numpy.ndarray'>\n"
     ]
    }
   ],
   "source": [
    "# creating the string\n",
    "str = \"geeksforgeeks\"\n",
    " \n",
    "# creating 1-d array\n",
    "x = np.fromiter(str, dtype='U2')\n",
    "print(type(x))"
   ]
  },
  {
   "cell_type": "markdown",
   "metadata": {},
   "source": [
    "### Zeros and Ones\n",
    "\n",
    "\n",
    "`zeros` returns an array (of floats) of zeros  of the precised `shape`\n",
    "\n",
    "`ones`  returns an array (of floats) of ones  of the precised `shape`\n",
    "\n",
    "`eye`  returns a square 2D-array (of floats) with ones on the diagonal and zeros elsewhere  "
   ]
  },
  {
   "cell_type": "code",
   "execution_count": 116,
   "metadata": {},
   "outputs": [
    {
     "name": "stdout",
     "output_type": "stream",
     "text": [
      "[[0. 0. 0.]\n",
      " [0. 0. 0.]\n",
      " [0. 0. 0.]] (3, 3) <class 'numpy.ndarray'> float64\n"
     ]
    }
   ],
   "source": [
    "# x = np.zeros(6)\n",
    "# print(x,x.shape,type(x),x.dtype)\n",
    "\n",
    "# x = np.zeros((3,))\n",
    "# print(x,x.shape,type(x),x.dtype)\n",
    "\n",
    "x = np.zeros((3,3))\n",
    "print(x,x.shape,type(x),x.dtype)\n",
    "\n",
    "# y = np.ones(2)\n",
    "# y"
   ]
  },
  {
   "cell_type": "code",
   "execution_count": 118,
   "metadata": {},
   "outputs": [
    {
     "name": "stdout",
     "output_type": "stream",
     "text": [
      "[[1. 0. 0. 0.]\n",
      " [0. 1. 0. 0.]\n",
      " [0. 0. 1. 0.]\n",
      " [0. 0. 0. 1.]] (4, 4) <class 'numpy.ndarray'> float64\n"
     ]
    }
   ],
   "source": [
    "M = np.eye(4)\n",
    "print(M,M.shape,type(M),M.dtype)"
   ]
  },
  {
   "cell_type": "markdown",
   "metadata": {},
   "source": [
    "### Random data\n",
    "\n",
    "\n",
    "Random arrays can be generated by Numpy's [random](https://numpy.org/doc/stable/reference/random/index.html) module.\n",
    "\n",
    "\n",
    "`rand` returns an array (of floats) of uniformly distributed numbers in [0,1)  of the precised dimension\n",
    "\n",
    "`randn`  returns an array (of floats) of numbers from the normal distribution of the precised dimension\n",
    "\n",
    "`randint`  returns an array (of floats) of integers from the discrete uniform distribution"
   ]
  },
  {
   "cell_type": "code",
   "execution_count": 120,
   "metadata": {},
   "outputs": [
    {
     "data": {
      "text/plain": [
       "array([0.90253733, 0.27464375, 0.71558993, 0.78986308, 0.19719881,\n",
       "       0.70577421, 0.19135847, 0.89342337, 0.61563485, 0.1341681 ,\n",
       "       0.85872412, 0.17444878, 0.51054889, 0.6473284 , 0.23065526,\n",
       "       0.20349442, 0.83926798, 0.02914544, 0.01498553, 0.45652629,\n",
       "       0.71540161, 0.33356299, 0.83390455, 0.82744763, 0.44573254,\n",
       "       0.69312319, 0.85112981, 0.51231001, 0.25671145, 0.70193672,\n",
       "       0.54152995, 0.81985587, 0.60980668, 0.08816645, 0.35107055,\n",
       "       0.01257586, 0.64854419, 0.5955071 , 0.05187837, 0.12195978,\n",
       "       0.25204644, 0.50063979, 0.95533356, 0.53750672, 0.26722353,\n",
       "       0.19345688, 0.77283087, 0.98233439, 0.33002518, 0.47049631,\n",
       "       0.40702385, 0.21812256, 0.81478655, 0.59391265, 0.73938292,\n",
       "       0.69471749, 0.41355458, 0.63470713, 0.44316531, 0.69240545,\n",
       "       0.23259612, 0.99018762, 0.77951169, 0.29844742, 0.56062178,\n",
       "       0.93101019, 0.38532116, 0.21487235, 0.97599044, 0.10760425,\n",
       "       0.10581594, 0.1240568 , 0.83680809, 0.12898092, 0.06202813,\n",
       "       0.57121331, 0.54967074, 0.36358984, 0.01205139, 0.44882178,\n",
       "       0.7279509 , 0.36646115, 0.04603527, 0.4313371 , 0.54927827,\n",
       "       0.69607157, 0.06824832, 0.27622772, 0.97942203, 0.30452754,\n",
       "       0.72971406, 0.21403328, 0.55956464, 0.43624844, 0.82004304,\n",
       "       0.34322127, 0.41431917, 0.80257412, 0.82404918, 0.15426848])"
      ]
     },
     "execution_count": 120,
     "metadata": {},
     "output_type": "execute_result"
    }
   ],
   "source": [
    "np.random.rand(100) "
   ]
  },
  {
   "cell_type": "code",
   "execution_count": 121,
   "metadata": {},
   "outputs": [
    {
     "data": {
      "text/plain": [
       "array([[ 0.09515207, -1.07788226],\n",
       "       [ 1.26577152,  0.85174148],\n",
       "       [ 1.62741272, -1.12061104],\n",
       "       [-0.40514719, -0.49179826],\n",
       "       [-0.46134537,  1.91837063]])"
      ]
     },
     "execution_count": 121,
     "metadata": {},
     "output_type": "execute_result"
    }
   ],
   "source": [
    "np.random.randn(5,2)"
   ]
  },
  {
   "cell_type": "code",
   "execution_count": 124,
   "metadata": {},
   "outputs": [
    {
     "data": {
      "text/plain": [
       "array([[60, 23, 30],\n",
       "       [72, 71, 88],\n",
       "       [53, 50, 31],\n",
       "       [98, 93, 51],\n",
       "       [63, 93, 59],\n",
       "       [17, 12, 29],\n",
       "       [49, 78, 54],\n",
       "       [53, 81, 15],\n",
       "       [19, 44, 92],\n",
       "       [20, 44, 94]])"
      ]
     },
     "execution_count": 124,
     "metadata": {},
     "output_type": "execute_result"
    }
   ],
   "source": [
    "np.random.randint(0,100,size=(10,3))"
   ]
  },
  {
   "cell_type": "code",
   "execution_count": 126,
   "metadata": {},
   "outputs": [
    {
     "data": {
      "image/png": "[encoded data removed]",
      "text/plain": [
       "<Figure size 640x480 with 1 Axes>"
      ]
     },
     "metadata": {},
     "output_type": "display_data"
    }
   ],
   "source": [
    "a = np.random.randn(10000)\n",
    "# print(a)\n",
    "plt.figure()\n",
    "plt.hist(a,40) # histogram of a with 40 bins\n",
    "plt.show()"
   ]
  },
  {
   "cell_type": "markdown",
   "metadata": {},
   "source": [
    "# 1-D NumPy Array Functions\n",
    "\n",
    "NumPy is a powerful Python library for numerical computations. It provides efficient functions for working with one-dimensional arrays.\n",
    "\n",
    "`Max() Function`"
   ]
  },
  {
   "cell_type": "code",
   "execution_count": 128,
   "metadata": {},
   "outputs": [
    {
     "name": "stdout",
     "output_type": "stream",
     "text": [
      "[  0   1   2   3   4   5   6   7   8   9  10  11  12  13  14  15  16  17\n",
      "  18  19  20  21  22  23  24  25  26  27  28  29  30  31  32  33  34  35\n",
      "  36  37  38  39  40  41  42  43  44  45  46  47  48  49  50  51  52  53\n",
      "  54  55  56  57  58  59  60  61  62  63  64  65  66  67  68  69  70  71\n",
      "  72  73  74  75  76  77  78  79  80  81  82  83  84  85  86  87  88  89\n",
      "  90  91  92  93  94  95  96  97  98  99 100 101 102 103 104 105 106 107\n",
      " 108 109 110 111 112 113 114 115 116 117 118 119 120 121 122 123 124 125\n",
      " 126 127 128 129 130 131 132 133 134 135 136 137 138 139 140 141 142 143\n",
      " 144 145 146 147 148 149 150 151 152 153 154 155 156 157 158 159 160 161\n",
      " 162 163 164 165 166 167 168 169 170 171 172 173 174 175 176 177 178 179\n",
      " 180 181 182 183 184 185 186 187 188 189 190 191 192 193 194 195 196 197\n",
      " 198 199 200 201 202 203 204 205 206 207 208 209 210 211 212 213 214 215\n",
      " 216 217 218 219 220 221 222 223 224 225 226 227 228 229 230 231 232 233\n",
      " 234 235 236 237 238 239 240 241 242 243 244 245 246 247 248 249 250 251\n",
      " 252 253 254 255 256 257 258 259 260 261 262 263 264 265 266 267 268 269\n",
      " 270 271 272 273 274 275 276 277 278 279 280 281 282 283 284 285 286 287\n",
      " 288 289 290 291 292 293 294 295 296 297 298 299 300 301 302 303 304 305\n",
      " 306 307 308 309 310 311 312 313 314 315 316 317 318 319 320 321 322 323\n",
      " 324 325 326 327 328 329 330 331 332 333 334 335 336 337 338 339 340 341\n",
      " 342 343 344 345 346 347 348 349 350 351 352 353 354 355 356 357 358 359\n",
      " 360 361 362 363 364 365 366 367 368 369 370 371 372 373 374 375 376 377\n",
      " 378 379 380 381 382 383 384 385 386 387 388 389 390 391 392 393 394 395\n",
      " 396 397 398 399 400 401 402 403 404 405 406 407 408 409 410 411 412 413\n",
      " 414 415 416 417 418 419 420 421 422 423 424 425 426 427 428 429 430 431\n",
      " 432 433 434 435 436 437 438 439 440 441 442 443 444 445 446 447 448 449\n",
      " 450 451 452 453 454 455 456 457 458 459 460 461 462 463 464 465 466 467\n",
      " 468 469 470 471 472 473 474 475 476 477 478 479 480 481 482 483 484 485\n",
      " 486 487 488 489 490 491 492 493 494 495 496 497 498 499 500 501 502 503\n",
      " 504 505 506 507 508 509 510 511 512 513 514 515 516 517 518 519 520 521\n",
      " 522 523 524 525 526 527 528 529 530 531 532 533 534 535 536 537 538 539\n",
      " 540 541 542 543 544 545 546 547 548 549 550 551 552 553 554 555 556 557\n",
      " 558 559 560 561 562 563 564 565 566 567 568 569 570 571 572 573 574 575\n",
      " 576 577 578 579 580 581 582 583 584 585 586 587 588 589 590 591 592 593\n",
      " 594 595 596 597 598 599 600 601 602 603 604 605 606 607 608 609 610 611\n",
      " 612 613 614 615 616 617 618 619 620 621 622 623 624 625 626 627 628 629\n",
      " 630 631 632 633 634 635 636 637 638 639 640 641 642 643 644 645 646 647\n",
      " 648 649 650 651 652 653 654 655 656 657 658 659 660 661 662 663 664 665\n",
      " 666 667 668 669 670 671 672 673 674 675 676 677 678 679 680 681 682 683\n",
      " 684 685 686 687 688 689 690 691 692 693 694 695 696 697 698 699 700 701\n",
      " 702 703 704 705 706 707 708 709 710 711 712 713 714 715 716 717 718 719\n",
      " 720 721 722 723 724 725 726 727 728 729 730 731 732 733 734 735 736 737\n",
      " 738 739 740 741 742 743 744 745 746 747 748 749 750 751 752 753 754 755\n",
      " 756 757 758 759 760 761 762 763 764 765 766 767 768 769 770 771 772 773\n",
      " 774 775 776 777 778 779 780 781 782 783 784 785 786 787 788 789 790 791\n",
      " 792 793 794 795 796 797 798 799 800 801 802 803 804 805 806 807 808 809\n",
      " 810 811 812 813 814 815 816 817 818 819 820 821 822 823 824 825 826 827\n",
      " 828 829 830 831 832 833 834 835 836 837 838 839 840 841 842 843 844 845\n",
      " 846 847 848 849 850 851 852 853 854 855 856 857 858 859 860 861 862 863\n",
      " 864 865 866 867 868 869 870 871 872 873 874 875 876 877 878 879 880 881\n",
      " 882 883 884 885 886 887 888 889 890 891 892 893 894 895 896 897 898 899\n",
      " 900 901 902 903 904 905 906 907 908 909 910 911 912 913 914 915 916 917\n",
      " 918 919 920 921 922 923 924 925 926 927 928 929 930 931 932 933 934 935\n",
      " 936 937 938 939 940 941 942 943 944 945 946 947 948 949 950 951 952 953\n",
      " 954 955 956 957 958 959 960 961 962 963 964 965 966 967 968 969 970 971\n",
      " 972 973 974 975 976 977 978 979 980 981 982 983 984 985 986 987 988 989\n",
      " 990 991 992 993 994 995 996 997 998 999]\n",
      "999\n"
     ]
    }
   ],
   "source": [
    "a=np.arange(0,1000)\n",
    " \n",
    "b=a.max()\n",
    "print(a)\n",
    "print(b)"
   ]
  },
  {
   "cell_type": "markdown",
   "metadata": {},
   "source": [
    "`Min() Function`"
   ]
  },
  {
   "cell_type": "code",
   "execution_count": 129,
   "metadata": {},
   "outputs": [
    {
     "name": "stdout",
     "output_type": "stream",
     "text": [
      "1\n"
     ]
    }
   ],
   "source": [
    "a=np.arange(1,1000)\n",
    " \n",
    "b=a.min()\n",
    " \n",
    "print(b)"
   ]
  },
  {
   "cell_type": "markdown",
   "metadata": {},
   "source": [
    "`Argmax() Function`\n",
    "\n",
    "numpy.argmax() index of the maximum value (argmax):To find the index of the maximum value in an array."
   ]
  },
  {
   "cell_type": "code",
   "execution_count": 130,
   "metadata": {},
   "outputs": [
    {
     "name": "stdout",
     "output_type": "stream",
     "text": [
      "2\n"
     ]
    }
   ],
   "source": [
    "a=np.array([1,6,8,2,5,7])\n",
    " \n",
    "b=np.argmax(a)\n",
    " \n",
    "print(b)"
   ]
  },
  {
   "cell_type": "markdown",
   "metadata": {},
   "source": [
    "`Argmin() Function`\n",
    "\n",
    "numpy.argmin() index of the minimum value function is used to find the index of the minimum valu"
   ]
  },
  {
   "cell_type": "code",
   "execution_count": 131,
   "metadata": {},
   "outputs": [
    {
     "name": "stdout",
     "output_type": "stream",
     "text": [
      "0\n"
     ]
    }
   ],
   "source": [
    "a=np.array([1,6,8,2,5,7])\n",
    " \n",
    "b=np.argmin(a)\n",
    " \n",
    "print(b)"
   ]
  },
  {
   "cell_type": "markdown",
   "metadata": {},
   "source": [
    "## Matrices\n",
    "\n",
    "Matrices are simply 2D arrays. Since vectors and matrices share the same type, the notion of *shape* is very important.\n",
    "\n",
    "<table style=\"direction: ltr;\">\n",
    "  <tr>\n",
    "    <td style=\"direction: rtl;\">Function</td>\n",
    "    <td>Description</td>\n",
    "  </tr>\n",
    "  <tr>\n",
    "    <td>matrix.T</td>\n",
    "    <td>Returns transpose of the input matrix</td>\n",
    "  </tr>\n",
    "  <tr>\n",
    "    <td>matrix.H</td>\n",
    "    <td>Returns complex conjugate transpose of the input matrix</td>\n",
    "  </tr>\n",
    "  <tr>\n",
    "    <td>matrix.I</td>\n",
    "    <td>Returns the multiplicative inverse of the matrix</td>\n",
    "  </tr>\n",
    "  <tr>\n",
    "    <td>matrix.A</td>\n",
    "    <td>Return the input matrix as an ndarray object.</td>\n",
    "  </tr>\n",
    "  <tr>\n",
    "    <td>matrix.all()</td>\n",
    "    <td>Checks whether all matrix elements along a given axis evaluate to True. It is similar to ndarray.all() function.</td>\n",
    "  </tr>\n",
    "  <tr>\n",
    "    <td>matrix.any()</td>\n",
    "    <td>Checks whether any of the matrix elements along a given axis evaluate to True.</td>\n",
    "  </tr>\n",
    "  <tr>\n",
    "    <td>matrix.argmax()</td>\n",
    "    <td>Returns the indices of the maximum values along an axis in the input matrix</td>\n",
    "  </tr>\n",
    "  <tr>\n",
    "    <td>matrix.argmin()</td>\n",
    "    <td>Returns the indices of the minimum values along an axis in the input matrix</td>\n",
    "  </tr>\n",
    "  <tr>\n",
    "    <td>matrix.argsort()</td>\n",
    "    <td>Returns the indices that would sort the matrix</td>\n",
    "  </tr>\n",
    "  <tr>\n",
    "    <td>matrix.astype()</td>\n",
    "    <td>Returns the copy of the input matrix after type change</td>\n",
    "  </tr>\n",
    "  <tr>\n",
    "    <td>matrix.choose()</td>\n",
    "    <td>Returns a new matrix with chosen indices from the input matrix</td>\n",
    "  </tr>\n",
    "  <tr>\n",
    "    <td>matrix.clip()</td>\n",
    "    <td>Returns a new matrix within chosen limits from the input matrix</td>\n",
    "  </tr>\n",
    "  <tr>\n",
    "    <td>matrix.compress()</td>\n",
    "    <td>Returns the selected slice of a matrix along the given axis</td>\n",
    "  </tr>\n",
    "  <tr>\n",
    "    <td>matrix.conj()</td>\n",
    "    <td>Returns the complex conjugate of the given matrix</td>\n",
    "  </tr>\n",
    "  <tr>\n",
    "    <td>matrix.cumprod()</td>\n",
    "    <td>Returns cumulative product of elements in the given matrix along a given axis</td>\n",
    "  </tr>\n",
    "  <tr>\n",
    "    <td>matrix.cumsum()</td>\n",
    "    <td>Returns the cumulative sum of elements in the given matrix along with the given axis</td>\n",
    "  </tr>\n",
    "  <tr>\n",
    "    <td>matrix.diagonal()</td>\n",
    "    <td>Returns diagonal elements of the matrix</td>\n",
    "  </tr>\n",
    "  <tr>\n",
    "    <td>matrix.dot()</td>\n",
    "    <td>The returns dot product of two matrices</td>\n",
    "  </tr>\n",
    "</table>\n"
   ]
  },
  {
   "cell_type": "code",
   "execution_count": 132,
   "metadata": {
    "scrolled": false
   },
   "outputs": [
    {
     "name": "stdout",
     "output_type": "stream",
     "text": [
      "[[ 0.25  6.2   1.   10.  ]\n",
      " [12.    6.2   6.   -5.3 ]] <class 'numpy.ndarray'>\n",
      "[[ 0.25  6.2   1.   10.  ]\n",
      " [12.    6.2   6.   -5.3 ]] <class 'numpy.ndarray'>\n"
     ]
    }
   ],
   "source": [
    "M = np.array([[0.25, 6.2, 1, 10],[12, 6.2, 6, -5.3]])\n",
    "print(M,type(M))\n",
    "\n",
    "#creating matrix from string\n",
    "A = np.matrix('1 2 3; 4 5 6')\n",
    "print(M,type(M))"
   ]
  },
  {
   "cell_type": "markdown",
   "metadata": {},
   "source": [
    "* The `size` of an array is the number of elements while the `shape` gives how they are arranged."
   ]
  },
  {
   "cell_type": "code",
   "execution_count": 16,
   "metadata": {},
   "outputs": [],
   "source": [
    "print(x.size)  # or equivalently np.size(x)\n",
    "print(M.size)"
   ]
  },
  {
   "cell_type": "code",
   "execution_count": 133,
   "metadata": {},
   "outputs": [
    {
     "name": "stdout",
     "output_type": "stream",
     "text": [
      "(3, 3)\n",
      "(2, 4)\n"
     ]
    }
   ],
   "source": [
    "print(x.shape)  # or equivalently np.shape(x)\n",
    "print(M.shape)"
   ]
  },
  {
   "cell_type": "markdown",
   "metadata": {},
   "source": [
    "* The element access, assignment, type, copy is common and similar to the list type."
   ]
  },
  {
   "cell_type": "code",
   "execution_count": 141,
   "metadata": {},
   "outputs": [
    {
     "name": "stdout",
     "output_type": "stream",
     "text": [
      "[[ 6.1554  6.2     1.     10.    ]\n",
      " [12.      6.2     6.      0.5   ]]\n"
     ]
    }
   ],
   "source": [
    "# print(x)\n",
    "# print(M[1],M[-2])\n",
    "# print(M[::-1])\n",
    "M[-1][-1] = 0.5\n",
    "print(M)"
   ]
  },
  {
   "cell_type": "code",
   "execution_count": 142,
   "metadata": {},
   "outputs": [
    {
     "name": "stdout",
     "output_type": "stream",
     "text": [
      "[[0. 0. 0.]\n",
      " [0. 0. 0.]\n",
      " [0. 0. 0.]]\n",
      "[[1. 1. 1.]\n",
      " [0. 0. 0.]\n",
      " [0. 0. 0.]]\n",
      "[[0. 0. 0.]\n",
      " [0. 0. 0.]\n",
      " [0. 0. 0.]]\n"
     ]
    }
   ],
   "source": [
    "v = x\n",
    "w = np.copy(x) \n",
    "print(v)\n",
    "x[0]=1\n",
    "print(v)\n",
    "print(w)"
   ]
  },
  {
   "cell_type": "code",
   "execution_count": 20,
   "metadata": {},
   "outputs": [],
   "source": [
    "print(M)\n",
    "print(M[1,2],type(M[1,2]))\n",
    "print(M[1,:],type(M[1,:]),M[1,:].shape)\n",
    "print(M[1])\n",
    "print(M[:,0])"
   ]
  },
  {
   "cell_type": "markdown",
   "metadata": {},
   "source": [
    "`complexe type`"
   ]
  },
  {
   "cell_type": "code",
   "execution_count": 21,
   "metadata": {},
   "outputs": [],
   "source": [
    "try:\n",
    "    x[0] = 1 + 2.0j\n",
    "except Exception as e:\n",
    "    print(e)"
   ]
  },
  {
   "cell_type": "code",
   "execution_count": 22,
   "metadata": {},
   "outputs": [],
   "source": [
    "y = x.astype(complex)\n",
    "y[0] = 1 + 2.0j\n",
    "print(y,type(y),y.dtype)"
   ]
  },
  {
   "cell_type": "markdown",
   "metadata": {},
   "source": [
    "## Operations on Matrices and vectors \n"
   ]
  },
  {
   "cell_type": "code",
   "execution_count": 143,
   "metadata": {},
   "outputs": [
    {
     "name": "stdout",
     "output_type": "stream",
     "text": [
      "[0 1 2 3 4]\n"
     ]
    }
   ],
   "source": [
    "v = np.arange(0, 5)\n",
    "print(v)"
   ]
  },
  {
   "cell_type": "code",
   "execution_count": 144,
   "metadata": {},
   "outputs": [
    {
     "data": {
      "text/plain": [
       "array([0, 2, 4, 6, 8])"
      ]
     },
     "execution_count": 144,
     "metadata": {},
     "output_type": "execute_result"
    }
   ],
   "source": [
    "v * 2"
   ]
  },
  {
   "cell_type": "code",
   "execution_count": 145,
   "metadata": {},
   "outputs": [
    {
     "data": {
      "text/plain": [
       "array([2.5, 3.5, 4.5, 5.5, 6.5])"
      ]
     },
     "execution_count": 145,
     "metadata": {},
     "output_type": "execute_result"
    }
   ],
   "source": [
    "v + 2.5"
   ]
  },
  {
   "cell_type": "code",
   "execution_count": 146,
   "metadata": {},
   "outputs": [
    {
     "name": "stdout",
     "output_type": "stream",
     "text": [
      "[ 0  1  4  9 16] [0.         1.         1.41421356 1.73205081 2.        ]\n"
     ]
    }
   ],
   "source": [
    "square = v**2\n",
    "root = np.sqrt(v)\n",
    "print(square,root)"
   ]
  },
  {
   "cell_type": "code",
   "execution_count": 147,
   "metadata": {},
   "outputs": [
    {
     "data": {
      "image/png": "[encoded data removed]",
      "text/plain": [
       "<Figure size 640x480 with 2 Axes>"
      ]
     },
     "metadata": {},
     "output_type": "display_data"
    }
   ],
   "source": [
    "plt.figure()\n",
    "plt.subplot(1,2,1)\n",
    "plt.plot(square,'g--', label='$y = x^2$')\n",
    "plt.legend(loc=0)\n",
    "plt.subplot(1,2,2)\n",
    "plt.plot(root, 'r*-', label='$y = \\sqrt{x}$')\n",
    "plt.legend(loc=2)\n",
    "plt.show()"
   ]
  },
  {
   "cell_type": "code",
   "execution_count": 149,
   "metadata": {},
   "outputs": [
    {
     "name": "stdout",
     "output_type": "stream",
     "text": [
      "0\n",
      "1\n",
      "2\n",
      "3\n",
      "4\n"
     ]
    }
   ],
   "source": [
    "# A = np.array([[n+m*10 for n in range(5)] for m in range(4)])\n",
    "# print(A)\n"
   ]
  },
  {
   "cell_type": "code",
   "execution_count": 29,
   "metadata": {},
   "outputs": [],
   "source": [
    "A*2"
   ]
  },
  {
   "cell_type": "code",
   "execution_count": 30,
   "metadata": {},
   "outputs": [],
   "source": [
    "A+2.5"
   ]
  },
  {
   "cell_type": "markdown",
   "metadata": {},
   "source": [
    "Matrices can be visualized as images."
   ]
  },
  {
   "cell_type": "code",
   "execution_count": 150,
   "metadata": {},
   "outputs": [
    {
     "data": {
      "image/png": "[encoded data removed]",
      "text/plain": [
       "<Figure size 640x480 with 2 Axes>"
      ]
     },
     "metadata": {},
     "output_type": "display_data"
    }
   ],
   "source": [
    "C = np.random.randn(100,100)\n",
    "plt.figure()\n",
    "plt.imshow(C)\n",
    "plt.colorbar()\n",
    "plt.show()"
   ]
  },
  {
   "cell_type": "markdown",
   "metadata": {},
   "source": [
    "## Matrix and vector operations\n",
    "\n",
    "\n",
    "\n",
    "*Warning:* Operation symbols `+   -   *  /` correspond to *elementwise* operations! To perform, matrix/vector multiplication, dedicated function must be used. \n",
    "\n",
    "### Elementwise operations"
   ]
  },
  {
   "cell_type": "code",
   "execution_count": 32,
   "metadata": {},
   "outputs": [],
   "source": [
    "A = np.array([[n+m*10 for n in range(5)] for m in range(4)])\n",
    "v = np.random.randint(0,5,5)\n",
    "print(A,v)"
   ]
  },
  {
   "cell_type": "code",
   "execution_count": 33,
   "metadata": {},
   "outputs": [],
   "source": [
    "A*A"
   ]
  },
  {
   "cell_type": "code",
   "execution_count": 34,
   "metadata": {},
   "outputs": [],
   "source": [
    "v*v"
   ]
  },
  {
   "cell_type": "code",
   "execution_count": 35,
   "metadata": {},
   "outputs": [],
   "source": [
    "A*v"
   ]
  },
  {
   "cell_type": "markdown",
   "metadata": {},
   "source": [
    "### Transposition\n",
    "\n",
    "It can be useful to transpose, it is simply done by suffixing `.T` (or equivalently using the function `np.transpose`). Similarly `.H` is the Hermitian conjugate,  `.imag`  `.real` are the real and imaginary parts and  `.abs` the modulus (their *full* versions are respectively `np.conjugate`, `np.imag`, etc.)"
   ]
  },
  {
   "cell_type": "code",
   "execution_count": 151,
   "metadata": {},
   "outputs": [
    {
     "name": "stdout",
     "output_type": "stream",
     "text": [
      "[[ 0  1  2  3  4]\n",
      " [10 11 12 13 14]\n",
      " [20 21 22 23 24]\n",
      " [30 31 32 33 34]] (4, 5)\n",
      "[[ 0 10 20 30]\n",
      " [ 1 11 21 31]\n",
      " [ 2 12 22 32]\n",
      " [ 3 13 23 33]\n",
      " [ 4 14 24 34]] (5, 4)\n"
     ]
    }
   ],
   "source": [
    "print(A,A.shape)\n",
    "print(A.T,A.T.shape)"
   ]
  },
  {
   "cell_type": "markdown",
   "metadata": {},
   "source": [
    "### Matrix/vector operations\n",
    "\n",
    "$y=Av$ can be obtained by `y = A.dot(v)` (or equivalently `y = np.dot(A,v)`). This methods works for array with *compatible shape* (matrix-matrix, matrix-vector, vector-matrix, vector-vector, etc).\n"
   ]
  },
  {
   "cell_type": "code",
   "execution_count": 152,
   "metadata": {},
   "outputs": [
    {
     "name": "stdout",
     "output_type": "stream",
     "text": [
      "[[ 0  1  2  3  4]\n",
      " [10 11 12 13 14]\n",
      " [20 21 22 23 24]\n",
      " [30 31 32 33 34]] (4, 5) [0 1 2 3 4] (5,)\n",
      "[ 30 130 230 330] <class 'numpy.ndarray'> (4,)\n"
     ]
    }
   ],
   "source": [
    "y = np.dot(A,v)\n",
    "print(A,A.shape,v,v.shape)\n",
    "print(y,type(y),y.shape)"
   ]
  },
  {
   "cell_type": "markdown",
   "metadata": {},
   "source": [
    "Example of vector-vector multiplication i.e. a scalar product"
   ]
  },
  {
   "cell_type": "code",
   "execution_count": 38,
   "metadata": {},
   "outputs": [],
   "source": [
    "s = v.dot(v)\n",
    "print(v, s, type(s))"
   ]
  },
  {
   "cell_type": "markdown",
   "metadata": {},
   "source": [
    "Example of non-compatible shapes"
   ]
  },
  {
   "cell_type": "code",
   "execution_count": 39,
   "metadata": {},
   "outputs": [],
   "source": [
    "try:\n",
    "    A2 = np.dot(A,A)\n",
    "except Exception as error:\n",
    "    print(error)"
   ]
  },
  {
   "cell_type": "code",
   "execution_count": 40,
   "metadata": {},
   "outputs": [],
   "source": [
    "A3 = np.dot(A,A.T)\n",
    "print(A3,A3.shape)"
   ]
  },
  {
   "cell_type": "markdown",
   "metadata": {},
   "source": [
    "From a vector $v$, one can form the matrix $P=v v^T$ by `A=v.outer(v)` (or equivalently `np.outer(v,v)`)"
   ]
  },
  {
   "cell_type": "code",
   "execution_count": 41,
   "metadata": {},
   "outputs": [],
   "source": [
    "P = np.outer(v,v)\n",
    "print(P)"
   ]
  },
  {
   "cell_type": "markdown",
   "metadata": {},
   "source": [
    "### Useful Functions\n",
    "\n",
    "See the Documentation on [arrays](https://numpy.org/doc/stable/reference/arrays.ndarray.html)  and  [array creation](https://numpy.org/doc/stable/reference/routines.array-creation.html).\n",
    "\n",
    "*Warning:* Modificators such as transpose, reshape, etc. do not modify the matrix, if you want to keep the result of the operation, you have to assign a variable to it. The notable exceptions are precised as *in-place* in the documentation."
   ]
  },
  {
   "cell_type": "code",
   "execution_count": 42,
   "metadata": {},
   "outputs": [],
   "source": [
    "A.reshape((2,10))"
   ]
  },
  {
   "cell_type": "code",
   "execution_count": 154,
   "metadata": {},
   "outputs": [
    {
     "name": "stdout",
     "output_type": "stream",
     "text": [
      "[[ 0  1  2  3  4]\n",
      " [10 11 12 13 14]\n",
      " [20 21 22 23 24]\n",
      " [30 31 32 33 34]]\n"
     ]
    }
   ],
   "source": [
    "print(A)"
   ]
  },
  {
   "cell_type": "code",
   "execution_count": 44,
   "metadata": {},
   "outputs": [],
   "source": [
    "B = A.flatten()\n",
    "print(B)"
   ]
  },
  {
   "cell_type": "code",
   "execution_count": 153,
   "metadata": {},
   "outputs": [
    {
     "name": "stdout",
     "output_type": "stream",
     "text": [
      "66 34 19\n"
     ]
    }
   ],
   "source": [
    "print(A.trace(),A.max(),A.argmax())"
   ]
  },
  {
   "cell_type": "markdown",
   "metadata": {},
   "source": [
    "Some functions may be taken with respects to the columns with <tt>axis=0</tt> or lines with <tt>axis=1</tt>."
   ]
  },
  {
   "cell_type": "code",
   "execution_count": 46,
   "metadata": {},
   "outputs": [],
   "source": [
    "print(A.mean(),A.mean(axis=0),A.mean(axis=1))"
   ]
  },
  {
   "cell_type": "code",
   "execution_count": 47,
   "metadata": {},
   "outputs": [],
   "source": [
    "print(A.var(),A.var(axis=0),A.std(axis=1))"
   ]
  },
  {
   "cell_type": "markdown",
   "metadata": {},
   "source": [
    "### Repetition, concatenation"
   ]
  },
  {
   "cell_type": "code",
   "execution_count": 155,
   "metadata": {},
   "outputs": [
    {
     "data": {
      "text/plain": [
       "array([[1, 2],\n",
       "       [3, 4]])"
      ]
     },
     "execution_count": 155,
     "metadata": {},
     "output_type": "execute_result"
    }
   ],
   "source": [
    "a = np.array([[1, 2], [3, 4]])\n",
    "a"
   ]
  },
  {
   "cell_type": "code",
   "execution_count": 156,
   "metadata": {},
   "outputs": [
    {
     "data": {
      "text/plain": [
       "array([[5, 6]])"
      ]
     },
     "execution_count": 156,
     "metadata": {},
     "output_type": "execute_result"
    }
   ],
   "source": [
    "b = np.array([[5, 6]])\n",
    "b"
   ]
  },
  {
   "cell_type": "code",
   "execution_count": 157,
   "metadata": {},
   "outputs": [
    {
     "data": {
      "text/plain": [
       "array([[1, 2],\n",
       "       [3, 4],\n",
       "       [5, 6]])"
      ]
     },
     "execution_count": 157,
     "metadata": {},
     "output_type": "execute_result"
    }
   ],
   "source": [
    "np.concatenate((a, b), axis=0)"
   ]
  },
  {
   "cell_type": "code",
   "execution_count": 51,
   "metadata": {},
   "outputs": [],
   "source": [
    "np.concatenate((a, b.T), axis=1)"
   ]
  },
  {
   "cell_type": "code",
   "execution_count": 52,
   "metadata": {},
   "outputs": [],
   "source": [
    "np.vstack((a,b))"
   ]
  },
  {
   "cell_type": "code",
   "execution_count": 53,
   "metadata": {},
   "outputs": [],
   "source": [
    "np.hstack((a,b.T))"
   ]
  },
  {
   "cell_type": "markdown",
   "metadata": {},
   "source": [
    "### Iterating on arrays"
   ]
  },
  {
   "cell_type": "code",
   "execution_count": 158,
   "metadata": {},
   "outputs": [
    {
     "name": "stdout",
     "output_type": "stream",
     "text": [
      "1\n",
      "2\n",
      "3\n",
      "4\n"
     ]
    }
   ],
   "source": [
    "v = np.array([1,2,3,4])\n",
    "\n",
    "for element in v:\n",
    "    print(element)"
   ]
  },
  {
   "cell_type": "code",
   "execution_count": 55,
   "metadata": {},
   "outputs": [],
   "source": [
    "a = np.array([[1,2], [3,4]])\n",
    "\n",
    "for row in a:\n",
    "    print(\"row\", row)\n",
    "    \n",
    "    for element in row:\n",
    "        print(element)"
   ]
  },
  {
   "cell_type": "markdown",
   "metadata": {},
   "source": [
    "# 3- Linear Algebra \n",
    "\n",
    "\n",
    "Numpy comes with an efficient linear algebra module named `linalg` (see the [documentation](https://numpy.org/doc/stable/reference/routines.linalg.html) ). As in many languages, the more vectorized the operations are, the more efficient.\n",
    "\n",
    "## Decompositions\n",
    "\n",
    "\n",
    "* *QR:* `linalg.qr` Factor the matrix $A$ as $QR$, where $Q$ is orthonormal and $R$ is upper-triangular.\n",
    "* *Cholesky:* `linalg.cholesky` Return the Cholesky decomposition, $L L^H$, of the square matrix $A$, where $L$ is lower-triangular. $A$ must be Hermitian and positive-definite. Only $L$ is actually returned.\n",
    "* *SVD:* `linalg.svd`  Factors the matrix $A$ as $U  \\text{diag}(s) V$, where $U$ and $V$ are unitary and $s$ is a 1-d array of $A$‘s singular values.\n",
    "\n"
   ]
  },
  {
   "cell_type": "code",
   "execution_count": 73,
   "metadata": {},
   "outputs": [],
   "source": [
    "A = np.random.randn(3,2)"
   ]
  },
  {
   "cell_type": "code",
   "execution_count": 56,
   "metadata": {},
   "outputs": [],
   "source": [
    "Q, R = np.linalg.qr(A)\n",
    "print(A)\n",
    "print(Q)\n",
    "print(R)"
   ]
  },
  {
   "cell_type": "code",
   "execution_count": 57,
   "metadata": {},
   "outputs": [],
   "source": [
    "np.allclose(A, np.dot(Q, R)) # check that A=QR"
   ]
  },
  {
   "cell_type": "markdown",
   "metadata": {},
   "source": [
    "## Solving equations and inverting matrices\n",
    "\n",
    "When $A$ is full-rank, finding $x$ such that $Ax=b$ can be done efficiently using `linalg.solve` (as a general remark it is in general bad to invert $A$ for solving such equations, although this can be done by `linalg.inv`). "
   ]
  },
  {
   "cell_type": "code",
   "execution_count": 159,
   "metadata": {},
   "outputs": [
    {
     "name": "stdout",
     "output_type": "stream",
     "text": [
      "[[3 1]\n",
      " [1 2]]\n",
      "[9 8]\n"
     ]
    }
   ],
   "source": [
    "A = np.array([[3,1], [1,2]])\n",
    "b = np.array([9,8])\n",
    "print(A)\n",
    "print(b)"
   ]
  },
  {
   "cell_type": "code",
   "execution_count": 160,
   "metadata": {},
   "outputs": [
    {
     "name": "stdout",
     "output_type": "stream",
     "text": [
      "[2. 3.] True\n"
     ]
    }
   ],
   "source": [
    "x_sol = np.linalg.solve(A,b)\n",
    "\n",
    "print(x_sol , np.allclose(A.dot(x_sol),b))"
   ]
  },
  {
   "cell_type": "code",
   "execution_count": 60,
   "metadata": {},
   "outputs": [],
   "source": [
    "A_inv = np.linalg.inv(A)\n",
    "x_sol2 = A_inv.dot(b)\n",
    "\n",
    "print(x_sol2 , np.allclose(A.dot(x_sol2),b))"
   ]
  },
  {
   "cell_type": "code",
   "execution_count": null,
   "metadata": {},
   "outputs": [],
   "source": []
  }
 ],
 "metadata": {
  "kernelspec": {
   "display_name": "Python 3 (ipykernel)",
   "language": "python",
   "name": "python3"
  },
  "language_info": {
   "codemirror_mode": {
    "name": "ipython",
    "version": 3
   },
   "file_extension": ".py",
   "mimetype": "text/x-python",
   "name": "python",
   "nbconvert_exporter": "python",
   "pygments_lexer": "ipython3",
   "version": "3.9.13"
  },
  "varInspector": {
   "cols": {
    "lenName": 16,
    "lenType": 16,
    "lenVar": 40
   },
   "kernels_config": {
    "python": {
     "delete_cmd_postfix": "",
     "delete_cmd_prefix": "del ",
     "library": "var_list.py",
     "varRefreshCmd": "print(var_dic_list())"
    },
    "r": {
     "delete_cmd_postfix": ") ",
     "delete_cmd_prefix": "rm(",
     "library": "var_list.r",
     "varRefreshCmd": "cat(var_dic_list()) "
    }
   },
   "types_to_exclude": [
    "module",
    "function",
    "builtin_function_or_method",
    "instance",
    "_Feature"
   ],
   "window_display": false
  }
 },
 "nbformat": 4,
 "nbformat_minor": 2
}
